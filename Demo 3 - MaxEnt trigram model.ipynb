{
 "cells": [
  {
   "cell_type": "code",
   "execution_count": null,
   "metadata": {},
   "outputs": [],
   "source": [
    "import numpy as np"
   ]
  },
  {
   "cell_type": "code",
   "execution_count": null,
   "metadata": {},
   "outputs": [],
   "source": [
    "np.zeros(5)"
   ]
  },
  {
   "cell_type": "code",
   "execution_count": null,
   "metadata": {},
   "outputs": [],
   "source": [
    "Q = ['a', 'b', 'c']"
   ]
  },
  {
   "cell_type": "code",
   "execution_count": null,
   "metadata": {},
   "outputs": [],
   "source": [
    "Q.index('c')"
   ]
  },
  {
   "cell_type": "code",
   "execution_count": null,
   "metadata": {},
   "outputs": [],
   "source": [
    "a = np.array([1,2,3])\n",
    "b = np.array([4,5,6])\n",
    "np.concatenate([a,b])"
   ]
  },
  {
   "cell_type": "code",
   "execution_count": 1,
   "metadata": {},
   "outputs": [],
   "source": [
    "text = \"the quick brown fox jumped over the lazy dog\""
   ]
  },
  {
   "cell_type": "code",
   "execution_count": 2,
   "metadata": {},
   "outputs": [],
   "source": [
    "from trimodule import TrigramModelWithTopK, TrigramMaxEnt, TrigramMaxEntExpandSamples"
   ]
  },
  {
   "cell_type": "code",
   "execution_count": 3,
   "metadata": {},
   "outputs": [],
   "source": [
    "tmtopk = TrigramModelWithTopK(text)"
   ]
  },
  {
   "cell_type": "code",
   "execution_count": 4,
   "metadata": {},
   "outputs": [
    {
     "data": {
      "text/plain": [
       "'wn fox'"
      ]
     },
     "execution_count": 4,
     "metadata": {},
     "output_type": "execute_result"
    }
   ],
   "source": [
    "tmtopk.predict(4, 'wn')"
   ]
  },
  {
   "cell_type": "code",
   "execution_count": 5,
   "metadata": {},
   "outputs": [],
   "source": [
    "tmmaxent = TrigramMaxEnt(text)"
   ]
  },
  {
   "cell_type": "code",
   "execution_count": 6,
   "metadata": {},
   "outputs": [
    {
     "data": {
      "text/plain": [
       "['z',\n",
       " 'q',\n",
       " 'b',\n",
       " 'l',\n",
       " 'w',\n",
       " 'm',\n",
       " 'f',\n",
       " 'j',\n",
       " 'v',\n",
       " 'i',\n",
       " 'p',\n",
       " 'n',\n",
       " 'y',\n",
       " 'c',\n",
       " 'k',\n",
       " 'x',\n",
       " 'o',\n",
       " 'a',\n",
       " 'r',\n",
       " 't',\n",
       " ' ',\n",
       " 'd',\n",
       " 'e',\n",
       " 'u',\n",
       " 'h']"
      ]
     },
     "execution_count": 6,
     "metadata": {},
     "output_type": "execute_result"
    }
   ],
   "source": [
    "tmmaxent.features"
   ]
  },
  {
   "cell_type": "code",
   "execution_count": 7,
   "metadata": {
    "scrolled": false
   },
   "outputs": [
    {
     "name": "stderr",
     "output_type": "stream",
     "text": [
      "/usr/local/lib64/python3.7/site-packages/sklearn/linear_model/logistic.py:433: FutureWarning: Default solver will be changed to 'lbfgs' in 0.22. Specify a solver to silence this warning.\n",
      "  FutureWarning)\n",
      "/usr/local/lib64/python3.7/site-packages/sklearn/linear_model/logistic.py:460: FutureWarning: Default multi_class will be changed to 'auto' in 0.22. Specify the multi_class option to silence this warning.\n",
      "  \"this warning.\", FutureWarning)\n"
     ]
    }
   ],
   "source": [
    "tmmaxent.train(20)"
   ]
  },
  {
   "cell_type": "code",
   "execution_count": 8,
   "metadata": {
    "scrolled": true
   },
   "outputs": [
    {
     "data": {
      "text/plain": [
       "'th  e'"
      ]
     },
     "execution_count": 8,
     "metadata": {},
     "output_type": "execute_result"
    }
   ],
   "source": [
    "tmmaxent.predict(3, \"th\")"
   ]
  },
  {
   "cell_type": "code",
   "execution_count": 9,
   "metadata": {},
   "outputs": [
    {
     "data": {
      "text/plain": [
       "array([' ', 'b', 'c', 'd', 'e', 'i', 'k', 'o', 'r', 'x', 'y'], dtype='<U1')"
      ]
     },
     "execution_count": 9,
     "metadata": {},
     "output_type": "execute_result"
    }
   ],
   "source": [
    "tmmaxent.model.classes_"
   ]
  },
  {
   "cell_type": "code",
   "execution_count": 10,
   "metadata": {},
   "outputs": [
    {
     "data": {
      "text/plain": [
       "'the l'"
      ]
     },
     "execution_count": 10,
     "metadata": {},
     "output_type": "execute_result"
    }
   ],
   "source": [
    "tmtopk.predict(3, \"th\")"
   ]
  },
  {
   "cell_type": "code",
   "execution_count": 11,
   "metadata": {},
   "outputs": [
    {
     "data": {
      "text/plain": [
       "'box  '"
      ]
     },
     "execution_count": 11,
     "metadata": {},
     "output_type": "execute_result"
    }
   ],
   "source": [
    "tmmaxent.predict(3, \"bo\")"
   ]
  },
  {
   "cell_type": "code",
   "execution_count": 12,
   "metadata": {},
   "outputs": [],
   "source": [
    "boojumfile = open(\"13-0.txt\", \"r\")"
   ]
  },
  {
   "cell_type": "code",
   "execution_count": 13,
   "metadata": {},
   "outputs": [],
   "source": [
    "boojumtext = boojumfile.readlines()"
   ]
  },
  {
   "cell_type": "code",
   "execution_count": 14,
   "metadata": {},
   "outputs": [],
   "source": [
    "boojumstring = \"\".join(boojumtext).lower()"
   ]
  },
  {
   "cell_type": "code",
   "execution_count": 15,
   "metadata": {},
   "outputs": [
    {
     "data": {
      "text/plain": [
       "'\\ufeff                    the hunting of the snark\\n\\n                          lewis carroll\\n\\n               the millennium fulcrum edition 1.2\\n\\n\\n\\n\\n                    the hunting of the snark\\n                     an agony in eight fits\\n                               by\\n                          lewis carroll\\n\\n\\n\\npreface\\n\\nif--and the thing is wildly possible--the charge of writing nonsense\\nwere ever brought against the author of this brief but instructive\\npoem, it would be based, i feel convinced, on the line (in p.4)\\n\\n          “then the bowsprit got mixed with the rudder sometimes.”\\n\\nin view of this painful possibility, i will not (as i might) appeal\\nindignantly to my other writings as a proof that i am incapable of\\nsuch a deed: i will not (as i might) point to the strong moral purpose\\nof this poem itself, to the arithmetical principles so cautiously\\ninculcated in it, or to its noble teachings in natural history--i will\\ntake the more prosaic course of simply explaining how it happened.\\n\\nthe bellman, who was almost morbidly sensitive about appearances, used\\nto have the bowsprit unshipped once or twice a week to be revarnished,\\nand it more than once happened, when the time came for replacing it,\\nthat no one on board could remember which end of the ship it belonged\\nto. they knew it was not of the slightest use to appeal to the bellman\\nabout it--he would only refer to his naval code, and read out in\\npathetic tones admiralty instructions which none of them had ever been\\nable to understand--so it generally ended in its being fastened on,\\nanyhow, across the rudder. the helmsman used to stand by with tears in\\nhis eyes; he knew it was all wrong, but alas!  rule 42 of the code, “no\\none shall speak to the man at the helm,” had been completed by the\\nbellman himself with the words “and the man at the helm shall speak to\\nno one.”  so remonstrance was impossible, and no steering could be done\\ntill the next varnishing day.  during these bewildering intervals the\\nship usually sailed backwards.\\n\\nas this poem is to some extent connected with the lay of the jabberwock,\\nlet me take this opportunity of answering a question that has often been\\nasked me, how to pronounce “slithy toves.”  the “i” in “slithy” is long,\\nas in “writhe”; and “toves” is pronounced so as to rhyme with “groves.”\\n again, the first “o” in “borogoves” is pronounced like the “o” in\\n“borrow.”  i have heard people try to give it the sound of the “o” in\\n“worry”.  such is human perversity.\\n\\nthis also seems a fitting occasion to notice the other hard words in\\nthat poem.  humpty-dumpty’s theory, of two meanings packed into one word\\nlike a portmanteau, seems to me the right explanation for all.\\n\\nfor instance, take the two words “fuming” and “furious.”  make up your\\nmind that you will say both words, but leave it unsettled which you will\\nfirst.  now open your mouth and speak.  if your thoughts incline\\never so little towards “fuming,” you will say “fuming-furious;” if they\\nturn, by even a hair’s breadth, towards “furious,” you will say\\n“furious-fuming;” but if you have the rarest of gifts, a perfectly\\nbalanced mind, you will say “frumious.”\\n\\nsupposing that, when pistol uttered the well-known words--\\n\\n          “under which king, bezonian?  speak or die!”\\n\\njustice shallow had felt certain that it was either william or richard,\\nbut had not been able to settle which, so that he could not possibly say\\neither name before the other, can it be doubted that, rather than die,\\nhe would have gasped out “rilchiam!”\\n\\n\\n\\n                 fit the first\\n\\n                  the landing\\n\\n\\n     “just the place for a snark!” the bellman cried,\\n          as he landed his crew with care;\\n     supporting each man on the top of the tide\\n          by a finger entwined in his hair.\\n\\n     “just the place for a snark!  i have said it twice:\\n          that alone should encourage the crew.\\n     just the place for a snark!  i have said it thrice:\\n          what i tell you three times is true.”\\n\\n     the crew was complete: it included a boots--\\n          a maker of bonnets and hoods--\\n     a barrister, brought to arrange their disputes--\\n          and a broker, to value their goods.\\n\\n     a billiard-marker, whose skill was immense,\\n          might perhaps have won more than his share--\\n     but a banker, engaged at enormous expense,\\n          had the whole of their cash in his care.\\n\\n     there was also a beaver, that paced on the deck,\\n          or would sit making lace in the bow:\\n     and had often (the bellman said) saved them from wreck,\\n          though none of the sailors knew how.\\n\\n     there was one who was famed for the number of things\\n          he forgot when he entered the ship:\\n     his umbrella, his watch, all his jewels and rings,\\n          and the clothes he had bought for the trip.\\n\\n     he had forty-two boxes, all carefully packed,\\n          with his name painted clearly on each:\\n     but, since he omitted to mention the fact,\\n          they were all left behind on the beach.\\n\\n     the loss of his clothes hardly mattered, because\\n          he had seven coats on when he came,\\n     with three pairs of boots--but the worst of it was,\\n          he had wholly forgotten his name.\\n\\n     he would answer to “hi!” or to any loud cry,\\n          such as “fry me!” or “fritter my wig!”\\n      to “what-you-may-call-um!” or “what-was-his-name!”\\n           but especially “thing-um-a-jig!”\\n\\n     while, for those who preferred a more forcible word,\\n          he had different names from these:\\n     his intimate friends called him “candle-ends,”\\n           and his enemies “toasted-cheese.”\\n\\n     “his form is ungainly--his intellect small--”\\n           (so the bellman would often remark)\\n     “but his courage is perfect!  and that, after all,\\n          is the thing that one needs with a snark.”\\n\\n     he would joke with hyenas, returning their stare\\n          with an impudent wag of the head:\\n     and he once went a walk, paw-in-paw, with a bear,\\n          “just to keep up its spirits,” he said.\\n\\n     he came as a baker: but owned, when too late--\\n          and it drove the poor bellman half-mad--\\n     he could only bake bridecake--for which, i may state,\\n          no materials were to be had.\\n\\n     the last of the crew needs especial remark,\\n          though he looked an incredible dunce:\\n     he had just one idea--but, that one being “snark,”\\n           the good bellman engaged him at once.\\n\\n     he came as a butcher: but gravely declared,\\n          when the ship had been sailing a week,\\n     he could only kill beavers.  the bellman looked scared,\\n          and was almost too frightened to speak:\\n\\n     but at length he explained, in a tremulous tone,\\n          there was only one beaver on board;\\n     and that was a tame one he had of his own,\\n          whose death would be deeply deplored.\\n\\n     the beaver, who happened to hear the remark,\\n          protested, with tears in its eyes,\\n     that not even the rapture of hunting the snark\\n          could atone for that dismal surprise!\\n\\n     it strongly advised that the butcher should be\\n          conveyed in a separate ship:\\n     but the bellman declared that would never agree\\n          with the plans he had made for the trip:\\n\\n     navigation was always a difficult art,\\n          though with only one ship and one bell:\\n     and he feared he must really decline, for his part,\\n          undertaking another as well.\\n\\n     the beaver’s best course was, no doubt, to procure\\n          a second-hand dagger-proof coat--\\n     so the baker advised it--and next, to insure\\n          its life in some office of note:\\n\\n     this the banker suggested, and offered for hire\\n          (on moderate terms), or for sale,\\n     two excellent policies, one against fire,\\n          and one against damage from hail.\\n\\n     yet still, ever after that sorrowful day,\\n          whenever the butcher was by,\\n     the beaver kept looking the opposite way,\\n          and appeared unaccountably shy.\\n\\n\\n\\n                      fit the second\\n\\n                   the bellman’s speech\\n\\n\\n     the bellman himself they all praised to the skies--\\n          such a carriage, such ease and such grace!\\n     such solemnity, too!  one could see he was wise,\\n          the moment one looked in his face!\\n\\n     he had bought a large map representing the sea,\\n          without the least vestige of land:\\n     and the crew were much pleased when they found it to be\\n          a map they could all understand.\\n\\n     “what’s the good of mercator’s north poles and equators,\\n          tropics, zones, and meridian lines?”\\n      so the bellman would cry: and the crew would reply\\n          “they are merely conventional signs!\\n\\n     “other maps are such shapes, with their islands and capes!\\n          but we’ve got our brave captain to thank:”\\n      (so the crew would protest) “that he’s bought us the best--\\n          a perfect and absolute blank!”\\n\\n     this was charming, no doubt; but they shortly found out\\n          that the captain they trusted so well\\n     had only one notion for crossing the ocean,\\n          and that was to tingle his bell.\\n\\n     he was thoughtful and grave--but the orders he gave\\n          were enough to bewilder a crew.\\n     when he cried “steer to starboard, but keep her head larboard!”\\n           what on earth was the helmsman to do?\\n\\n     then the bowsprit got mixed with the rudder sometimes:\\n          a thing, as the bellman remarked,\\n     that frequently happens in tropical climes,\\n          when a vessel is, so to speak, “snarked.”\\n\\n     but the principal failing occurred in the sailing,\\n          and the bellman, perplexed and distressed,\\n     said he had hoped, at least, when the wind blew due east,\\n          that the ship would not travel due west!\\n\\n     but the danger was past--they had landed at last,\\n          with their boxes, portmanteaus, and bags:\\n     yet at first sight the crew were not pleased with the view,\\n          which consisted of chasms and crags.\\n\\n     the bellman perceived that their spirits were low,\\n          and repeated in musical tone\\n     some jokes he had kept for a season of woe--\\n          but the crew would do nothing but groan.\\n\\n     he served out some grog with a liberal hand,\\n          and bade them sit down on the beach:\\n     and they could not but own that their captain looked grand,\\n          as he stood and delivered his speech.\\n\\n     “friends, romans, and countrymen, lend me your ears!”\\n           (they were all of them fond of quotations:\\n     so they drank to his health, and they gave him three cheers,\\n          while he served out additional rations).\\n\\n     “we have sailed many months, we have sailed many weeks,\\n          (four weeks to the month you may mark),\\n     but never as yet [‘tis your captain who speaks)\\n          have we caught the least glimpse of a snark!\\n\\n     “we have sailed many weeks, we have sailed many days,\\n          (seven days to the week i allow),\\n     but a snark, on the which we might lovingly gaze,\\n          we have never beheld till now!\\n\\n     “come, listen, my men, while i tell you again\\n          the five unmistakable marks\\n     by which you may know, wheresoever you go,\\n          the warranted genuine snarks.\\n\\n     “let us take them in order.  the first is the taste,\\n          which is meagre and hollow, but crisp:\\n     like a coat that is rather too tight in the waist,\\n          with a flavour of will-o’-the-wisp.\\n\\n     “its habit of getting up late you’ll agree\\n          that it carries too far, when i say\\n     that it frequently breakfasts at five-o’clock tea,\\n          and dines on the following day.\\n\\n     “the third is its slowness in taking a jest.\\n          should you happen to venture on one,\\n     it will sigh like a thing that is deeply distressed:\\n          and it always looks grave at a pun.\\n\\n     “the fourth is its fondness for bathing-machines,\\n          which is constantly carries about,\\n     and believes that they add to the beauty of scenes--\\n          a sentiment open to doubt.\\n\\n     “the fifth is ambition.  it next will be right\\n          to describe each particular batch:\\n     distinguishing those that have feathers, and bite,\\n          and those that have whiskers, and scratch.\\n\\n     “for, although common snarks do no manner of harm,\\n          yet, i feel it my duty to say,\\n     some are boojums--” the bellman broke off in alarm,\\n          for the baker had fainted away.\\n\\n\\n\\n                      fit the third\\n\\n                     the baker’s tale\\n\\n\\n     they roused him with muffins--they roused him with ice--\\n          they roused him with mustard and cress--\\n     they roused him with jam and judicious advice--\\n          they set him conundrums to guess.\\n\\n     when at length he sat up and was able to speak,\\n          his sad story he offered to tell;\\n     and the bellman cried “silence!  not even a shriek!”\\n           and excitedly tingled his bell.\\n\\n     there was silence supreme!  not a shriek, not a scream,\\n          scarcely even a howl or a groan,\\n     as the man they called “ho!” told his story of woe\\n          in an antediluvian tone.\\n\\n     “my father and mother were honest, though poor--”\\n           “skip all that!” cried the bellman in haste.\\n     “if it once becomes dark, there’s no chance of a snark--\\n          we have hardly a minute to waste!”\\n\\n     “i skip forty years,” said the baker, in tears,\\n          “and proceed without further remark\\n     to the day when you took me aboard of your ship\\n          to help you in hunting the snark.\\n\\n     “a dear uncle of mine (after whom i was named)\\n          remarked, when i bade him farewell--”\\n      “oh, skip your dear uncle!” the bellman exclaimed,\\n          as he angrily tingled his bell.\\n\\n     “he remarked to me then,” said that mildest of men,\\n          “‘if your snark be a snark, that is right:\\n     fetch it home by all means--you may serve it with greens,\\n          and it’s handy for striking a light.\\n\\n     “‘you may seek it with thimbles--and seek it with care;\\n          you may hunt it with forks and hope;\\n     you may threaten its life with a railway-share;\\n          you may charm it with smiles and soap--’”\\n\\n     (“that’s exactly the method,” the bellman bold\\n          in a hasty parenthesis cried,\\n     “that’s exactly the way i have always been told\\n          that the capture of snarks should be tried!”)\\n\\n     “‘but oh, beamish nephew, beware of the day,\\n          if your snark be a boojum!  for then\\n     you will softly and suddenly vanish away,\\n          and never be met with again!’\\n\\n     “it is this, it is this that oppresses my soul,\\n          when i think of my uncle’s last words:\\n     and my heart is like nothing so much as a bowl\\n          brimming over with quivering curds!\\n\\n     “it is this, it is this--” “we have had that before!”\\n           the bellman indignantly said.\\n     and the baker replied “let me say it once more.\\n          it is this, it is this that i dread!\\n\\n     “i engage with the snark--every night after dark--\\n          in a dreamy delirious fight:\\n     i serve it with greens in those shadowy scenes,\\n          and i use it for striking a light:\\n\\n     “but if ever i meet with a boojum, that day,\\n          in a moment (of this i am sure),\\n     i shall softly and suddenly vanish away--\\n          and the notion i cannot endure!”\\n\\n\\n\\n                      fit the fourth\\n\\n                       the hunting\\n\\n\\n     the bellman looked huffish, and wrinkled his brow.\\n          “if only you’d spoken before!\\n     it’s excessively awkward to mention it now,\\n          with the snark, so to speak, at the door!\\n\\n     “we should all of us grieve, as you well may believe,\\n          if you never were met with again--\\n     but surely, my man, when the voyage began,\\n          you might have suggested it then?\\n\\n     “it’s excessively awkward to mention it now--\\n          as i think i’ve already remarked.”\\n      and the man they called “hi!” replied, with a sigh,\\n          “i informed you the day we embarked.\\n\\n     “you may charge me with murder--or want of sense--\\n          (we are all of us weak at times):\\n     but the slightest approach to a false pretence\\n          was never among my crimes!\\n\\n     “i said it in hebrew--i said it in dutch--\\n          i said it in german and greek:\\n     but i wholly forgot (and it vexes me much)\\n          that english is what you speak!”\\n\\n     “‘tis a pitiful tale,” said the bellman, whose face\\n          had grown longer at every word:\\n     “but, now that you’ve stated the whole of your case,\\n          more debate would be simply absurd.\\n\\n     “the rest of my speech” (he explained to his men)\\n          “you shall hear when i’ve leisure to speak it.\\n     but the snark is at hand, let me tell you again!\\n          ‘tis your glorious duty to seek it!\\n\\n     “to seek it with thimbles, to seek it with care;\\n          to pursue it with forks and hope;\\n     to threaten its life with a railway-share;\\n          to charm it with smiles and soap!\\n\\n     “for the snark’s a peculiar creature, that won’t\\n          be caught in a commonplace way.\\n     do all that you know, and try all that you don’t:\\n          not a chance must be wasted to-day!\\n\\n     “for england expects--i forbear to proceed:\\n          ‘tis a maxim tremendous, but trite:\\n     and you’d best be unpacking the things that you need\\n          to rig yourselves out for the fight.”\\n\\n     then the banker endorsed a blank cheque (which he crossed),\\n          and changed his loose silver for notes.\\n     the baker with care combed his whiskers and hair,\\n          and shook the dust out of his coats.\\n\\n     the boots and the broker were sharpening a spade--\\n          each working the grindstone in turn:\\n     but the beaver went on making lace, and displayed\\n          no interest in the concern:\\n\\n     though the barrister tried to appeal to its pride,\\n          and vainly proceeded to cite\\n     a number of cases, in which making laces\\n          had been proved an infringement of right.\\n\\n     the maker of bonnets ferociously planned\\n          a novel arrangement of bows:\\n     while the billiard-marker with quivering hand\\n          was chalking the tip of his nose.\\n\\n     but the butcher turned nervous, and dressed himself fine,\\n          with yellow kid gloves and a ruff--\\n     said he felt it exactly like going to dine,\\n          which the bellman declared was all “stuff.”\\n\\n     “introduce me, now there’s a good fellow,” he said,\\n          “if we happen to meet it together!”\\n      and the bellman, sagaciously nodding his head,\\n          said “that must depend on the weather.”\\n\\n     the beaver went simply galumphing about,\\n          at seeing the butcher so shy:\\n     and even the baker, though stupid and stout,\\n          made an effort to wink with one eye.\\n\\n     “be a man!” said the bellman in wrath, as he heard\\n          the butcher beginning to sob.\\n     “should we meet with a jubjub, that desperate bird,\\n          we shall need all our strength for the job!”\\n\\n\\n\\n                      fit the fifth\\n\\n                   the beaver’s lesson\\n\\n\\n     they sought it with thimbles, they sought it with care;\\n          they pursued it with forks and hope;\\n     they threatened its life with a railway-share;\\n          they charmed it with smiles and soap.\\n\\n     then the butcher contrived an ingenious plan\\n          for making a separate sally;\\n     and had fixed on a spot unfrequented by man,\\n          a dismal and desolate valley.\\n\\n     but the very same plan to the beaver occurred:\\n          it had chosen the very same place:\\n     yet neither betrayed, by a sign or a word,\\n          the disgust that appeared in his face.\\n\\n     each thought he was thinking of nothing but “snark”\\n           and the glorious work of the day;\\n     and each tried to pretend that he did not remark\\n          that the other was going that way.\\n\\n     but the valley grew narrow and narrower still,\\n          and the evening got darker and colder,\\n     till (merely from nervousness, not from goodwill)\\n          they marched along shoulder to shoulder.\\n\\n     then a scream, shrill and high, rent the shuddering sky,\\n          and they knew that some danger was near:\\n     the beaver turned pale to the tip of its tail,\\n          and even the butcher felt queer.\\n\\n     he thought of his childhood, left far far behind--\\n          that blissful and innocent state--\\n     the sound so exactly recalled to his mind\\n          a pencil that squeaks on a slate!\\n\\n     “‘tis the voice of the jubjub!” he suddenly cried.\\n          (this man, that they used to call “dunce.”)\\n     “as the bellman would tell you,” he added with pride,\\n          “i have uttered that sentiment once.\\n\\n     “‘tis the note of the jubjub! keep count, i entreat;\\n          you will find i have told it you twice.\\n     ‘tis the song of the jubjub! the proof is complete,\\n          if only i’ve stated it thrice.”\\n\\n     the beaver had counted with scrupulous care,\\n          attending to every word:\\n     but it fairly lost heart, and outgrabe in despair,\\n          when the third repetition occurred.\\n\\n     it felt that, in spite of all possible pains,\\n          it had somehow contrived to lose count,\\n     and the only thing now was to rack its poor brains\\n          by reckoning up the amount.\\n\\n     “two added to one--if that could but be done,”\\n           it said, “with one’s fingers and thumbs!”\\n      recollecting with tears how, in earlier years,\\n          it had taken no pains with its sums.\\n\\n     “the thing can be done,” said the butcher, “i think.\\n          the thing must be done, i am sure.\\n     the thing shall be done!  bring me paper and ink,\\n          the best there is time to procure.”\\n\\n     the beaver brought paper, portfolio, pens,\\n          and ink in unfailing supplies:\\n     while strange creepy creatures came out of their dens,\\n          and watched them with wondering eyes.\\n\\n     so engrossed was the butcher, he heeded them not,\\n          as he wrote with a pen in each hand,\\n     and explained all the while in a popular style\\n          which the beaver could well understand.\\n\\n     “taking three as the subject to reason about--\\n          a convenient number to state--\\n     we add seven, and ten, and then multiply out\\n          by one thousand diminished by eight.\\n\\n     “the result we proceed to divide, as you see,\\n          by nine hundred and ninety two:\\n     then subtract seventeen, and the answer must be\\n          exactly and perfectly true.\\n\\n     “the method employed i would gladly explain,\\n          while i have it so clear in my head,\\n     if i had but the time and you had but the brain--\\n          but much yet remains to be said.\\n\\n     “in one moment i’ve seen what has hitherto been\\n          enveloped in absolute mystery,\\n     and without extra charge i will give you at large\\n          a lesson in natural history.”\\n\\n     in his genial way he proceeded to say\\n          (forgetting all laws of propriety,\\n     and that giving instruction, without introduction,\\n          would have caused quite a thrill in society),\\n\\n     “as to temper the jubjub’s a desperate bird,\\n          since it lives in perpetual passion:\\n     its taste in costume is entirely absurd--\\n          it is ages ahead of the fashion:\\n\\n     “but it knows any friend it has met once before:\\n          it never will look at a bribe:\\n     and in charity-meetings it stands at the door,\\n          and collects--though it does not subscribe.\\n\\n     “its’ flavour when cooked is more exquisite far\\n          than mutton, or oysters, or eggs:\\n     (some think it keeps best in an ivory jar,\\n          and some, in mahogany kegs:)\\n\\n     “you boil it in sawdust: you salt it in glue:\\n          you condense it with locusts and tape:\\n     still keeping one principal object in view--\\n          to preserve its symmetrical shape.”\\n\\n     the butcher would gladly have talked till next day,\\n          but he felt that the lesson must end,\\n     and he wept with delight in attempting to say\\n          he considered the beaver his friend.\\n\\n     while the beaver confessed, with affectionate looks\\n          more eloquent even than tears,\\n     it had learned in ten minutes far more than all books\\n          would have taught it in seventy years.\\n\\n     they returned hand-in-hand, and the bellman, unmanned\\n          (for a moment) with noble emotion,\\n     said “this amply repays all the wearisome days\\n          we have spent on the billowy ocean!”\\n\\n     such friends, as the beaver and butcher became,\\n          have seldom if ever been known;\\n     in winter or summer, ‘twas always the same--\\n          you could never meet either alone.\\n\\n     and when quarrels arose--as one frequently finds\\n          quarrels will, spite of every endeavour--\\n     the song of the jubjub recurred to their minds,\\n          and cemented their friendship for ever!\\n\\n\\n\\n                      fit the sixth\\n\\n                  the barrister’s dream\\n\\n\\n     they sought it with thimbles, they sought it with care;\\n          they pursued it with forks and hope;\\n     they threatened its life with a railway-share;\\n          they charmed it with smiles and soap.\\n\\n     but the barrister, weary of proving in vain\\n          that the beaver’s lace-making was wrong,\\n     fell asleep, and in dreams saw the creature quite plain\\n          that his fancy had dwelt on so long.\\n\\n     he dreamed that he stood in a shadowy court,\\n          where the snark, with a glass in its eye,\\n     dressed in gown, bands, and wig, was defending a pig\\n          on the charge of deserting its sty.\\n\\n     the witnesses proved, without error or flaw,\\n          that the sty was deserted when found:\\n     and the judge kept explaining the state of the law\\n          in a soft under-current of sound.\\n\\n     the indictment had never been clearly expressed,\\n          and it seemed that the snark had begun,\\n     and had spoken three hours, before any one guessed\\n          what the pig was supposed to have done.\\n\\n     the jury had each formed a different view\\n          (long before the indictment was read),\\n     and they all spoke at once, so that none of them knew\\n          one word that the others had said.\\n\\n     “you must know--” said the judge: but the snark exclaimed “fudge!”\\n           that statute is obsolete quite!\\n     let me tell you, my friends, the whole question depends\\n          on an ancient manorial right.\\n\\n     “in the matter of treason the pig would appear\\n          to have aided, but scarcely abetted:\\n     while the charge of insolvency fails, it is clear,\\n          if you grant the plea ‘never indebted.’\\n\\n     “the fact of desertion i will not dispute;\\n          but its guilt, as i trust, is removed\\n     (so far as related to the costs of this suit)\\n          by the alibi which has been proved.\\n\\n     “my poor client’s fate now depends on your votes.”\\n           here the speaker sat down in his place,\\n     and directed the judge to refer to his notes\\n          and briefly to sum up the case.\\n\\n     but the judge said he never had summed up before;\\n          so the snark undertook it instead,\\n     and summed it so well that it came to far more\\n          than the witnesses ever had said!\\n\\n     when the verdict was called for, the jury declined,\\n          as the word was so puzzling to spell;\\n     but they ventured to hope that the snark wouldn’t mind\\n          undertaking that duty as well.\\n\\n     so the snark found the verdict, although, as it owned,\\n          it was spent with the toils of the day:\\n     when it said the word “guilty!” the jury all groaned,\\n          and some of them fainted away.\\n\\n     then the snark pronounced sentence, the judge being quite\\n          too nervous to utter a word:\\n     when it rose to its feet, there was silence like night,\\n          and the fall of a pin might be heard.\\n\\n     “transportation for life” was the sentence it gave,\\n          “and _then_ to be fined forty pound.”\\n      the jury all cheered, though the judge said he feared\\n          that the phrase was not legally sound.\\n\\n     but their wild exultation was suddenly checked\\n          when the jailer informed them, with tears,\\n     such a sentence would have not the slightest effect,\\n          as the pig had been dead for some years.\\n\\n     the judge left the court, looking deeply disgusted:\\n          but the snark, though a little aghast,\\n     as the lawyer to whom the defense was entrusted,\\n          went bellowing on to the last.\\n\\n     thus the barrister dreamed, while the bellowing seemed\\n          to grow every moment more clear:\\n     till he woke to the knell of a furious bell,\\n          which the bellman rang close at his ear.\\n\\n\\n\\n                     fit the seventh\\n\\n                    the banker’s fate\\n\\n\\n     they sought it with thimbles, they sought it with care;\\n          they pursued it with forks and hope;\\n     they threatened its life with a railway-share;\\n          they charmed it with smiles and soap.\\n\\n     and the banker, inspired with a courage so new\\n          it was matter for general remark,\\n     rushed madly ahead and was lost to their view\\n          in his zeal to discover the snark\\n\\n     but while he was seeking with thimbles and care,\\n          a bandersnatch swiftly drew nigh\\n     and grabbed at the banker, who shrieked in despair,\\n          for he knew it was useless to fly.\\n\\n     he offered large discount--he offered a cheque\\n          (drawn “to bearer”) for seven-pounds-ten:\\n     but the bandersnatch merely extended its neck\\n          and grabbed at the banker again.\\n\\n     without rest or pause--while those frumious jaws\\n          went savagely snapping around--\\n     he skipped and he hopped, and he floundered and flopped,\\n          till fainting he fell to the ground.\\n\\n     the bandersnatch fled as the others appeared\\n          led on by that fear-stricken yell:\\n     and the bellman remarked “it is just as i feared!”\\n           and solemnly tolled on his bell.\\n\\n     he was black in the face, and they scarcely could trace\\n          the least likeness to what he had been:\\n     while so great was his fright that his waistcoat turned white--\\n          a wonderful thing to be seen!\\n\\n     to the horror of all who were present that day.\\n          he uprose in full evening dress,\\n     and with senseless grimaces endeavoured to say\\n          what his tongue could no longer express.\\n\\n     down he sank in a chair--ran his hands through his hair--\\n          and chanted in mimsiest tones\\n     words whose utter inanity proved his insanity,\\n          while he rattled a couple of bones.\\n\\n     “leave him here to his fate--it is getting so late!”\\n           the bellman exclaimed in a fright.\\n     “we have lost half the day.  any further delay,\\n          and we sha’nt catch a snark before night!”\\n\\n\\n\\n                      fit the eighth\\n\\n                      the vanishing\\n\\n\\n     they sought it with thimbles, they sought it with care;\\n          they pursued it with forks and hope;\\n     they threatened its life with a railway-share;\\n          they charmed it with smiles and soap.\\n\\n     they shuddered to think that the chase might fail,\\n          and the beaver, excited at last,\\n     went bounding along on the tip of its tail,\\n          for the daylight was nearly past.\\n\\n     “there is thingumbob shouting!” the bellman said,\\n          “he is shouting like mad, only hark!\\n     he is waving his hands, he is wagging his head,\\n          he has certainly found a snark!”\\n\\n     they gazed in delight, while the butcher exclaimed\\n          “he was always a desperate wag!”\\n      they beheld him--their baker--their hero unnamed--\\n          on the top of a neighboring crag.\\n\\n     erect and sublime, for one moment of time.\\n          in the next, that wild figure they saw\\n     (as if stung by a spasm) plunge into a chasm,\\n          while they waited and listened in awe.\\n\\n     “it’s a snark!” was the sound that first came to their ears,\\n          and seemed almost too good to be true.\\n     then followed a torrent of laughter and cheers:\\n          then the ominous words “it’s a boo-”\\n\\n     then, silence.  some fancied they heard in the air\\n          a weary and wandering sigh\\n     then sounded like “-jum!” but the others declare\\n          it was only a breeze that went by.\\n\\n     they hunted till darkness came on, but they found\\n          not a button, or feather, or mark,\\n     by which they could tell that they stood on the ground\\n          where the baker had met with the snark.\\n\\n     in the midst of the word he was trying to say,\\n          in the midst of his laughter and glee,\\n     he had softly and suddenly vanished away---\\n          for the snark _was_ a boojum, you see.\\n\\n\\n\\n                   the end\\n'"
      ]
     },
     "execution_count": 15,
     "metadata": {},
     "output_type": "execute_result"
    }
   ],
   "source": [
    "boojumstring"
   ]
  },
  {
   "cell_type": "code",
   "execution_count": 16,
   "metadata": {},
   "outputs": [
    {
     "data": {
      "text/plain": [
       "32655"
      ]
     },
     "execution_count": 16,
     "metadata": {},
     "output_type": "execute_result"
    }
   ],
   "source": [
    "len(boojumstring)"
   ]
  },
  {
   "cell_type": "code",
   "execution_count": 17,
   "metadata": {},
   "outputs": [],
   "source": [
    "btopk = TrigramModelWithTopK(boojumstring)"
   ]
  },
  {
   "cell_type": "code",
   "execution_count": 18,
   "metadata": {},
   "outputs": [],
   "source": [
    "bmaxent = TrigramMaxEnt(boojumstring)"
   ]
  },
  {
   "cell_type": "code",
   "execution_count": 19,
   "metadata": {},
   "outputs": [],
   "source": [
    "bmaxent2 = TrigramMaxEntExpandSamples(boojumstring)"
   ]
  },
  {
   "cell_type": "code",
   "execution_count": 20,
   "metadata": {},
   "outputs": [
    {
     "name": "stderr",
     "output_type": "stream",
     "text": [
      "/usr/local/lib64/python3.7/site-packages/sklearn/linear_model/logistic.py:433: FutureWarning: Default solver will be changed to 'lbfgs' in 0.22. Specify a solver to silence this warning.\n",
      "  FutureWarning)\n",
      "/usr/local/lib64/python3.7/site-packages/sklearn/linear_model/logistic.py:460: FutureWarning: Default multi_class will be changed to 'auto' in 0.22. Specify the multi_class option to silence this warning.\n",
      "  \"this warning.\", FutureWarning)\n"
     ]
    }
   ],
   "source": [
    "bmaxent.train(30000)"
   ]
  },
  {
   "cell_type": "code",
   "execution_count": 21,
   "metadata": {},
   "outputs": [
    {
     "name": "stderr",
     "output_type": "stream",
     "text": [
      "/usr/local/lib64/python3.7/site-packages/sklearn/linear_model/logistic.py:433: FutureWarning: Default solver will be changed to 'lbfgs' in 0.22. Specify a solver to silence this warning.\n",
      "  FutureWarning)\n",
      "/usr/local/lib64/python3.7/site-packages/sklearn/linear_model/logistic.py:460: FutureWarning: Default multi_class will be changed to 'auto' in 0.22. Specify the multi_class option to silence this warning.\n",
      "  \"this warning.\", FutureWarning)\n"
     ]
    }
   ],
   "source": [
    "bmaxent2.train(30000)"
   ]
  },
  {
   "cell_type": "code",
   "execution_count": 25,
   "metadata": {},
   "outputs": [
    {
     "data": {
      "text/plain": [
       "'thish ch if--”\\n  and,\\nled hishist is hus a dam fard '"
      ]
     },
     "execution_count": 25,
     "metadata": {},
     "output_type": "execute_result"
    }
   ],
   "source": [
    "btopk.predict(50, \"th\")"
   ]
  },
  {
   "cell_type": "code",
   "execution_count": 26,
   "metadata": {},
   "outputs": [
    {
     "data": {
      "text/plain": [
       "'th sonclo she mo  illedenclloffilyo  ild bo t dustay'"
      ]
     },
     "execution_count": 26,
     "metadata": {},
     "output_type": "execute_result"
    }
   ],
   "source": [
    "bmaxent.predict(50, \"th\")"
   ]
  },
  {
   "cell_type": "code",
   "execution_count": 27,
   "metadata": {},
   "outputs": [
    {
     "data": {
      "text/plain": [
       "'the bul  ofur ce,k  htysurit as intyoouscite  thest '"
      ]
     },
     "execution_count": 27,
     "metadata": {},
     "output_type": "execute_result"
    }
   ],
   "source": [
    "bmaxent2.predict(50, \"th\")"
   ]
  },
  {
   "cell_type": "code",
   "execution_count": null,
   "metadata": {},
   "outputs": [],
   "source": []
  }
 ],
 "metadata": {
  "kernelspec": {
   "display_name": "Python 3",
   "language": "python",
   "name": "python3"
  },
  "language_info": {
   "codemirror_mode": {
    "name": "ipython",
    "version": 3
   },
   "file_extension": ".py",
   "mimetype": "text/x-python",
   "name": "python",
   "nbconvert_exporter": "python",
   "pygments_lexer": "ipython3",
   "version": "3.7.4"
  }
 },
 "nbformat": 4,
 "nbformat_minor": 2
}
